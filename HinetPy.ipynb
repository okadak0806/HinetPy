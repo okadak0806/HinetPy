{
 "cells": [
  {
   "cell_type": "code",
   "execution_count": 3,
   "id": "17823e8e",
   "metadata": {},
   "outputs": [
    {
     "name": "stdout",
     "output_type": "stream",
     "text": [
      "Requirement already satisfied: dotenv in /usr/local/lib/python3.10/dist-packages (0.9.9)\n",
      "Requirement already satisfied: python-dotenv in /usr/local/lib/python3.10/dist-packages (from dotenv) (1.1.1)\n",
      "\u001b[33mWARNING: Running pip as the 'root' user can result in broken permissions and conflicting behaviour with the system package manager, possibly rendering your system unusable. It is recommended to use a virtual environment instead: https://pip.pypa.io/warnings/venv. Use the --root-user-action option if you know what you are doing and want to suppress this warning.\u001b[0m\u001b[33m\n",
      "\u001b[0mNote: you may need to restart the kernel to use updated packages.\n"
     ]
    }
   ],
   "source": [
    "pip install dotenv"
   ]
  },
  {
   "cell_type": "code",
   "execution_count": 4,
   "id": "15831620",
   "metadata": {},
   "outputs": [],
   "source": [
    "from HinetPy import Client\n",
    "import os\n",
    "import dotenv\n",
    "\n",
    "dotenv.load_dotenv()\n",
    "\n",
    "client = Client(os.getenv('HINET_USERNAME'), os.getenv('HINET_PASSWORD'))\n",
    "\n",
    "# client.get_waveform(station='TJ001', network='TJ', location='', channel='HHZ', starttime='2025-07-16T00:00:00', endtime='2025-07-16T00:01:00')"
   ]
  },
  {
   "cell_type": "code",
   "execution_count": 6,
   "id": "3800424b",
   "metadata": {},
   "outputs": [
    {
     "name": "stderr",
     "output_type": "stream",
     "text": [
      "[2025-07-17 01:09:17] INFO: Hi-net web service is NOT updated.\n"
     ]
    },
    {
     "name": "stdout",
     "output_type": "stream",
     "text": [
      "You're using the latest version (vv999.999.999+unknown).\n",
      "catwin32: Full path is /bin/catwin32.\n",
      "win2sac_32: Full path is /bin/win2sac_32.\n"
     ]
    }
   ],
   "source": [
    "client.doctor()"
   ]
  },
  {
   "cell_type": "code",
   "execution_count": 27,
   "id": "3164ce74",
   "metadata": {},
   "outputs": [
    {
     "name": "stdout",
     "output_type": "stream",
     "text": [
      "0101   : NIED Hi-net\n",
      "0103   : NIED F-net (broadband)\n",
      "0103A  : NIED F-net (strong motion)\n",
      "010501 : NIED V-net (Tokachidake)\n",
      "010502 : NIED V-net (Tarumaesan)\n",
      "010503 : NIED V-net (Usuzan)\n",
      "010504 : NIED V-net (Hokkaido-Komagatake)\n",
      "010505 : NIED V-net (Iwatesan)\n",
      "010506 : NIED V-net (Nasudake)\n",
      "010507 : NIED V-net (Asamayama)\n",
      "010508 : NIED V-net (Kusatsu-Shiranesan)\n",
      "010509 : NIED V-net (Fujisan)\n",
      "010510 : NIED V-net (Miyakejima)\n",
      "010511 : NIED V-net (Izu-Oshima)\n",
      "010512 : NIED V-net (Asosan)\n",
      "010513 : NIED V-net (Unzendake)\n",
      "010514 : NIED V-net (Kirishimayama)\n",
      "0106   : NIED Temp. obs. in eastern Shikoku\n",
      "0120   : NIED S-net (velocity)\n",
      "0120A  : NIED S-net (acceleration)\n",
      "0120B  : NIED S-net (acceleration 2LG)\n",
      "0120C  : NIED S-net (acceleration 2HG)\n",
      "0131   : NIED MeSO-net\n",
      "0201   : Hokkaido University\n",
      "0202   : Tohoku University\n",
      "0203   : Tokyo University\n",
      "0204   : Kyoto University\n",
      "0205   : Kyushu University\n",
      "0206   : Hirosaki University\n",
      "0207   : Nagoya University\n",
      "0208   : Kochi University\n",
      "0209   : Kagoshima University\n",
      "0231   : MeSO-net (~2017.03)\n",
      "0301   : JMA Seismometer Network\n",
      "030201 : JMA Volcanic Seismometer Network (Atosanupuri)\n",
      "030202 : JMA Volcanic Seismometer Network (Meakandake)\n",
      "030203 : JMA Volcanic Seismometer Network (Taisetsuzan)\n",
      "030204 : JMA Volcanic Seismometer Network (Tokachidake)\n",
      "030205 : JMA Volcanic Seismometer Network (Tarumaesan)\n",
      "030206 : JMA Volcanic Seismometer Network (Kuttara)\n",
      "030207 : JMA Volcanic Seismometer Network (Usuzan)\n",
      "030208 : JMA Volcanic Seismometer Network (Hokkaido-Komagatake)\n",
      "030209 : JMA Volcanic Seismometer Network (Esan)\n",
      "030210 : JMA Volcanic Seismometer Network (Iwakisan)\n",
      "030211 : JMA Volcanic Seismometer Network (Akita-Yakeyama)\n",
      "030212 : JMA Volcanic Seismometer Network (Iwatesan)\n",
      "030213 : JMA Volcanic Seismometer Network (Akita-Komagatake)\n",
      "030214 : JMA Volcanic Seismometer Network (Chokaisan)\n",
      "030215 : JMA Volcanic Seismometer Network (Kurikomayama)\n",
      "030216 : JMA Volcanic Seismometer Network (Zaozan)\n",
      "030217 : JMA Volcanic Seismometer Network (Azumayama)\n",
      "030218 : JMA Volcanic Seismometer Network (Adatarayama)\n",
      "030219 : JMA Volcanic Seismometer Network (Bandaisan)\n",
      "030220 : JMA Volcanic Seismometer Network (Nasudake)\n",
      "030221 : JMA Volcanic Seismometer Network (Nikko-Shiranesan)\n",
      "030222 : JMA Volcanic Seismometer Network (Kusatsu-Shiranesan)\n",
      "030223 : JMA Volcanic Seismometer Network (Asamayama)\n",
      "030224 : JMA Volcanic Seismometer Network (Niigata-Yakeyama)\n",
      "030225 : JMA Volcanic Seismometer Network (Yakedake)\n",
      "030226 : JMA Volcanic Seismometer Network (Norikuradake)\n",
      "030227 : JMA Volcanic Seismometer Network (Ontakesan)\n",
      "030228 : JMA Volcanic Seismometer Network (Hakusan)\n",
      "030229 : JMA Volcanic Seismometer Network (Fujisan)\n",
      "030230 : JMA Volcanic Seismometer Network (Hakoneyama)\n",
      "030231 : JMA Volcanic Seismometer Network (Izu-Tobu Volcanoes)\n",
      "030232 : JMA Volcanic Seismometer Network (Izu-Oshima)\n",
      "030233 : JMA Volcanic Seismometer Network (Niijima)\n",
      "030234 : JMA Volcanic Seismometer Network (Kozushima)\n",
      "030235 : JMA Volcanic Seismometer Network (Miyakejima)\n",
      "030236 : JMA Volcanic Seismometer Network (Hachijojima)\n",
      "030237 : JMA Volcanic Seismometer Network (Aogashima)\n",
      "030238 : JMA Volcanic Seismometer Network (Tsurumidake and Garandake)\n",
      "030239 : JMA Volcanic Seismometer Network (Kujusan)\n",
      "030240 : JMA Volcanic Seismometer Network (Asosan)\n",
      "030241 : JMA Volcanic Seismometer Network (Unzendake)\n",
      "030242 : JMA Volcanic Seismometer Network (Kirishimayama)\n",
      "030243 : JMA Volcanic Seismometer Network (Sakurajima)\n",
      "030244 : JMA Volcanic Seismometer Network (Satsuma-Iojima)\n",
      "030245 : JMA Volcanic Seismometer Network (Kuchinoerabujima)\n",
      "030246 : JMA Volcanic Seismometer Network (Suwanosejima)\n",
      "030247 : JMA Volcanic Seismometer Network (Hakkodasan)\n",
      "030248 : JMA Volcanic Seismometer Network (Towada)\n",
      "030249 : JMA Volcanic Seismometer Network (Midagahara)\n",
      "0401   : JAMSTEC Realtime Data from the Deep Sea Floor Observatory\n",
      "0402   : NIED DONET1 (broadband)\n",
      "0402A  : NIED DONET1 (strong motion)\n",
      "0402AN : JAMSTEC NIED DONET1 (strong motion)\n",
      "0402N  : JAMSTEC NIED DONET1 (broadband)\n",
      "0403   : NIED DONET2 (broadband)\n",
      "0403A  : NIED DONET2 (strong motion)\n",
      "0403AN : JAMSTEC NIED DONET2 (strong motion)\n",
      "0403N  : JAMSTEC NIED DONET2 (broadband)\n",
      "0501   : AIST\n",
      "0601   : GSI\n",
      "0701   : Tokyo Metropolitan Government\n",
      "0702   : Hot Spring Research Institute of Kanagawa Prefecture\n",
      "0703   : Aomori Prefectural Government\n",
      "0705   : Shizuoka Prefectural Government\n",
      "0801   : ADEP\n"
     ]
    }
   ],
   "source": [
    "client.info()"
   ]
  },
  {
   "cell_type": "code",
   "execution_count": 9,
   "id": "f05dbd18",
   "metadata": {},
   "outputs": [
    {
     "name": "stdout",
     "output_type": "stream",
     "text": [
      "== Information of Network 0301 ==\n",
      "Name: JMA Seismometer Network\n",
      "Homepage: http://www.jma.go.jp/jma/indexe.html\n",
      "Starttime: 20040401\n",
      "No. of channels: 872\n"
     ]
    }
   ],
   "source": [
    "client.info(\"0301\")"
   ]
  },
  {
   "cell_type": "code",
   "execution_count": null,
   "id": "3eb9fdea",
   "metadata": {},
   "outputs": [],
   "source": [
    "stations = client.get_station_list(\"0101\")\n",
    "for station in stations:\n",
    "    print(station)"
   ]
  },
  {
   "cell_type": "code",
   "execution_count": 18,
   "id": "26a13692",
   "metadata": {},
   "outputs": [],
   "source": [
    "# select only two stations of Hi-net if you know the station names\n",
    "client.select_stations(\n",
    "    \"0101\", minlatitude=36, maxlatitude=50, minlongitude=140, maxlongitude=150\n",
    ")\n"
   ]
  },
  {
   "cell_type": "markdown",
   "id": "d38ef792",
   "metadata": {},
   "source": [
    "# 1. Get Continuous waveform"
   ]
  },
  {
   "cell_type": "code",
   "execution_count": 21,
   "id": "46c967f4",
   "metadata": {},
   "outputs": [
    {
     "name": "stderr",
     "output_type": "stream",
     "text": [
      "[2025-07-17 01:35:20] INFO: 2010-01-01 00:00 ~5\n",
      "[2025-07-17 01:35:20] INFO: [1/1] => 2010-01-01 00:00 ~5\n"
     ]
    }
   ],
   "source": [
    "from HinetPy import Client\n",
    "import os\n",
    "import dotenv\n",
    "\n",
    "dotenv.load_dotenv()\n",
    "\n",
    "client = Client(os.getenv('HINET_USERNAME'), os.getenv('HINET_PASSWORD'))\n",
    "\n",
    "data,ctable=client.get_continuous_waveform(\"0101\",\"201001010000\",5)"
   ]
  },
  {
   "cell_type": "markdown",
   "id": "73bb2ba4",
   "metadata": {},
   "source": [
    "# 1.2 Custom way"
   ]
  },
  {
   "cell_type": "code",
   "execution_count": 6,
   "id": "807acaf9",
   "metadata": {},
   "outputs": [
    {
     "name": "stderr",
     "output_type": "stream",
     "text": [
      "[2025-07-17 05:59:37] INFO: 2018-09-06 03:00 ~20\n",
      "[2025-07-17 05:59:37] INFO: [1/1] => 2018-09-06 03:00 ~20\n"
     ]
    }
   ],
   "source": [
    "from HinetPy import Client\n",
    "from datetime import datetime\n",
    "import os\n",
    "import dotenv\n",
    "\n",
    "dotenv.load_dotenv()\n",
    "\n",
    "client = Client(os.getenv('HINET_USERNAME'), os.getenv('HINET_PASSWORD'))\n",
    "network = \"01\"\n",
    "station = \"01\"\n",
    "\n",
    "if network+station == \"0101\":\n",
    "    client.select_stations(\"0101\", latitude=42, longitude=142, minradius=0, maxradius=2)\n",
    "    \n",
    "starttime = datetime(2018, 9, 6, 3, 0)  # JST time\n",
    "data, ctable = client.get_continuous_waveform(\n",
    "    network+station,\n",
    "    starttime,\n",
    "    20,\n",
    "    data=datetime.strftime(starttime, \"%Y%m%d%H%M\")+network+station+\"VM.cnt\",\n",
    "    ctable=network+\"_\"+station+\"_\"+datetime.strftime(starttime, \"%Y%m%d\")+\".utf8.ch\",\n",
    "    outdir=\"data/\"+network+\"_\"+station,\n",
    "    merge_files=False,\n",
    "    # outdir=\"data/\"+network+\"_\"+station+\"_\"+datetime.strftime(starttime, \"%Y%m%d\"),\n",
    ")"
   ]
  },
  {
   "cell_type": "markdown",
   "id": "7cc16098",
   "metadata": {},
   "source": []
  }
 ],
 "metadata": {
  "kernelspec": {
   "display_name": "Python 3",
   "language": "python",
   "name": "python3"
  },
  "language_info": {
   "codemirror_mode": {
    "name": "ipython",
    "version": 3
   },
   "file_extension": ".py",
   "mimetype": "text/x-python",
   "name": "python",
   "nbconvert_exporter": "python",
   "pygments_lexer": "ipython3",
   "version": "3.10.12"
  }
 },
 "nbformat": 4,
 "nbformat_minor": 5
}
